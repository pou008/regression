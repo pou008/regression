{
 "cells": [
  {
   "attachments": {},
   "cell_type": "markdown",
   "id": "9caea1db",
   "metadata": {},
   "source": [
    "<h1 align=center style=\"line-height:200%;font-family:vazir;color:#0099cc\">\n",
    "<font face=\"vazir\" color=\"#0099cc\">\n",
    "سرشاخ با رگرسیون\n",
    "</font>\n",
    "</h1>\n",
    "\n",
    "<p dir=rtl style=\"direction: rtl;text-align: justify;line-height:200%;font-family:vazir;font-size:medium\">\n",
    "<font face=\"vazir\" size=3>\n",
    "<span style=\"color:red\"><b>توجه:</b></span>\n",
    "در تمامی پلات‌های خواسته شده در این تمرین، نام‌گذاری بردار‌ها الزامی است.\n",
    "</font>\n",
    "</p>"
   ]
  },
  {
   "attachments": {},
   "cell_type": "markdown",
   "id": "1a7c5884",
   "metadata": {},
   "source": [
    "<h2 align=right style=\"line-height:200%;font-family:vazir;color:#0099cc\">\n",
    "<font face=\"vazir\" color=\"#0099cc\">\n",
    "مقدمه\n",
    "</font>\n",
    "</h2>\n",
    "\n",
    "<p dir=rtl style=\"direction: rtl;text-align: justify;line-height:200%;font-family:vazir;font-size:medium\">\n",
    "<font face=\"vazir\" size=3>\n",
    "در این تمرین می‌خواهیم اصول عملکرد رگرسیون خطی را به دو روش <b>الگوریتم گرادیان کاهشی (Gradient Descent)</b> و <b>معادلات نرمال (Normal Equation)</b>  درک کنیم. همچنین سعی شده در خلال تمرین مفاهیمی از قبیل تاثیر نرمال‌سازی داده‌ها در روند یادگیری ماشین، نرخ‌یادگیری در الگوریتم گرادیان کاهشی، رگولاریزیشن/منظم‌سازی (Regularization)، موازنه‌ی بایاس واریانس و غیره را مطرح و در رابطه با آن‌ها بحث کنیم. برای شروع این تمرین هیجان‌انگیز با اجرای سل زیر کتابخانه‌های لازم را فراخوانده و داده را از فایل <code>Housing.csv</code> بخوانید و در متغیر <code>df</code> ذخیره نمایید. \n",
    "</font>\n",
    "</p>"
   ]
  },
  {
   "cell_type": "code",
   "execution_count": 1,
   "id": "f212c8ab",
   "metadata": {},
   "outputs": [],
   "source": [
    "import numpy as np\n",
    "import pandas as pd\n",
    "import matplotlib.pyplot as plt"
   ]
  },
  {
   "cell_type": "code",
   "execution_count": 2,
   "id": "5c15ed0d",
   "metadata": {},
   "outputs": [],
   "source": [
    "df = pd.read_csv('Housing.csv')"
   ]
  },
  {
   "attachments": {},
   "cell_type": "markdown",
   "id": "ef52fd57",
   "metadata": {},
   "source": [
    "<p dir=rtl style=\"direction: rtl;text-align: justify;line-height:200%;font-family:vazir;font-size:medium\">\n",
    "<font face=\"vazir\" size=3>\n",
    "با بررسی سطر‌های تکراری یا داده‌های مفقوده متوجه‌ می‌شویم داده‌های نسبتاً تمیزی در اختیارمان قرار گرفته است و در این تمرین چندان درگیر پیش‌پردازش داده نمی‌شویم. ستون اول از دیتافریم را به‌عنوان هدف مسئله رگرسیون خطی پیش‌رو انتخاب کنید و در متغیر <code>y</code> و \n",
    "ستون دوم دیتافریم که بیان‌گر مساحت خانه‌ است را در بخش اول سوال به عنوان تنها ورودی مسئله در متغیر <code>x</code> ذخیره کنید.\n",
    "</font>\n",
    "</p>\n"
   ]
  },
  {
   "cell_type": "code",
   "execution_count": 3,
   "id": "1fca4868",
   "metadata": {},
   "outputs": [
    {
     "name": "stdout",
     "output_type": "stream",
     "text": [
      "<class 'pandas.core.frame.DataFrame'>\n",
      "RangeIndex: 545 entries, 0 to 544\n",
      "Data columns (total 13 columns):\n",
      " #   Column            Non-Null Count  Dtype \n",
      "---  ------            --------------  ----- \n",
      " 0   price             545 non-null    int64 \n",
      " 1   area              545 non-null    int64 \n",
      " 2   bedrooms          545 non-null    int64 \n",
      " 3   bathrooms         545 non-null    int64 \n",
      " 4   stories           545 non-null    int64 \n",
      " 5   mainroad          545 non-null    object\n",
      " 6   guestroom         545 non-null    object\n",
      " 7   basement          545 non-null    object\n",
      " 8   hotwaterheating   545 non-null    object\n",
      " 9   airconditioning   545 non-null    object\n",
      " 10  parking           545 non-null    int64 \n",
      " 11  prefarea          545 non-null    object\n",
      " 12  furnishingstatus  545 non-null    object\n",
      "dtypes: int64(6), object(7)\n",
      "memory usage: 55.5+ KB\n"
     ]
    }
   ],
   "source": [
    "df.info()"
   ]
  },
  {
   "cell_type": "code",
   "execution_count": 4,
   "id": "01828169",
   "metadata": {},
   "outputs": [
    {
     "data": {
      "text/plain": [
       "13"
      ]
     },
     "execution_count": 4,
     "metadata": {},
     "output_type": "execute_result"
    }
   ],
   "source": [
    "df.iloc[:, 0: 2].duplicated().sum()"
   ]
  },
  {
   "cell_type": "code",
   "execution_count": 5,
   "id": "b23070a2",
   "metadata": {},
   "outputs": [],
   "source": [
    "x = df['area'].to_numpy()\n",
    "y = df['price'].to_numpy()"
   ]
  },
  {
   "attachments": {},
   "cell_type": "markdown",
   "id": "6e842964",
   "metadata": {},
   "source": [
    "<p dir=rtl style=\"direction: rtl;text-align: justify;line-height:200%;font-family:vazir;font-size:medium\">\n",
    "<font face=\"vazir\" size=3>\n",
    "از آن‌جا که حدود متغیر‌های <code>x</code> و <code>y</code> بسیار زیاد است، \n",
    "هر دو متغیر را بر <code>۱۰۰۰۰</code> تقسیم کنید اما در تحلیل‌ نتایج این موضوع را فراموش نکنید (فعلاً نمی‌خواهیم از نرما‌ل‌سازی یا استانداردسازی داده‌ها استفاده کنیم).\n",
    "</font>\n",
    "</p>\n"
   ]
  },
  {
   "cell_type": "code",
   "execution_count": 6,
   "id": "7f9096fd",
   "metadata": {},
   "outputs": [],
   "source": [
    "x = x / 10000\n",
    "y = y / 10000"
   ]
  },
  {
   "attachments": {},
   "cell_type": "markdown",
   "id": "04f34744",
   "metadata": {},
   "source": [
    "<p dir=rtl style=\"direction: rtl;text-align: justify;line-height:200%;font-family:vazir;font-size:medium\">\n",
    "<font face=\"vazir\" size=3>\n",
    "با توجه به این‌که در رگرسیون خطی یک عرض از مبدا برای خط رگرسور تعریف می‌شود، برای انجام ضرب ماتریسی میان ماتریس ورودی و بردار ضرایب رگرسیون یک ستون با مقدار <code>1</code> به <code>x</code> اضافه کرده و در متغیر <code>X</code> ذخیره نمایید. پیشنهاد می‌شود <code>y</code> و <code>X</code> را جهت تسریع محاسبات آتی به آرایه‌های نامپای تبدیل کنید (<code>Shape</code> آرایه‌های <code>X</code> و <code>y</code> به‌صورت کامنت‌ آمده است).\n",
    "</font>\n",
    "</p>\n"
   ]
  },
  {
   "cell_type": "code",
   "execution_count": 7,
   "id": "f2ffc7c4",
   "metadata": {},
   "outputs": [],
   "source": [
    "x = np.concatenate((np.ones(len(x)).reshape(-1,1), x.reshape(-1,1)), axis= 1)\n",
    "y = y.reshape(-1,1)\n",
    "# X.shape = (545, 2)\n",
    "# y.shape= (545, 1)"
   ]
  },
  {
   "cell_type": "code",
   "execution_count": 8,
   "id": "fc00f1ce",
   "metadata": {},
   "outputs": [
    {
     "data": {
      "text/plain": [
       "(545, 2)"
      ]
     },
     "execution_count": 8,
     "metadata": {},
     "output_type": "execute_result"
    }
   ],
   "source": [
    "x.shape"
   ]
  },
  {
   "cell_type": "code",
   "execution_count": 9,
   "id": "65d0d87c",
   "metadata": {},
   "outputs": [
    {
     "data": {
      "text/plain": [
       "(545, 1)"
      ]
     },
     "execution_count": 9,
     "metadata": {},
     "output_type": "execute_result"
    }
   ],
   "source": [
    "y.shape"
   ]
  },
  {
   "attachments": {},
   "cell_type": "markdown",
   "id": "5ddc60c3",
   "metadata": {},
   "source": [
    "<p dir=rtl style=\"direction: rtl;text-align: justify;line-height:200%;font-family:vazir;font-size:medium\">\n",
    "<font face=\"vazir\" size=3>\n",
    "اسکترپلات <code>x</code> و <code>y</code> را رسم نمایید تا نحوه‌ی توزیع نقاط در این صفحه را مشاهده کنید.\n",
    "</font>\n",
    "</p>\n"
   ]
  },
  {
   "cell_type": "code",
   "execution_count": 10,
   "id": "90f36ad7",
   "metadata": {},
   "outputs": [
    {
     "data": {
      "text/plain": [
       "Text(0, 0.5, 'y(price in /10000 scale)')"
      ]
     },
     "execution_count": 10,
     "metadata": {},
     "output_type": "execute_result"
    },
    {
     "data": {
      "image/png": "[encoded data removed]",
      "text/plain": [
       "<Figure size 800x800 with 1 Axes>"
      ]
     },
     "metadata": {},
     "output_type": "display_data"
    }
   ],
   "source": [
    "ax = plt.subplots(figsize= (8,8))\n",
    "plt.scatter(x[:, 1], y[:, 0])\n",
    "plt.xlabel('x(area in /10000 scale)')\n",
    "plt.ylabel('y(price in /10000 scale)')"
   ]
  },
  {
   "attachments": {},
   "cell_type": "markdown",
   "id": "ecd733d2",
   "metadata": {},
   "source": [
    "<h2 dir=rtl align=right style=\"line-height:200%;font-family:vazir;color:#0099cc\">\n",
    "<font face=\"vazir\" color=\"#0099cc\">\n",
    "بخش اول: رگرسیون تک‌متغیره\n",
    "</font>\n",
    "</h2>\n",
    "<p dir=rtl style=\"direction: rtl;text-align: justify;line-height:200%;font-family:vazir;font-size:medium\">\n",
    "<font face=\"vazir\" size=3>\n",
    "می‌خواهیم مسئله رگرسیون خطی برای پیش‌بینی مقدار قیمت خانه با استفاده از مساحت‌ خانه را نخست به روش گرادیان کاهشی، سپس با استفاده از معادلات نرمال حل کنیم. بدین منظور از شما می‌خواهیم تمامی توابع لازم را خودتان بنویسید و در پایان نتایج را با نتایج دستور رگرسیون خطی پکیج <code>scikit-learn</code> مقایسه خواهیم کرد.\n",
    "<br>\n",
    "رگرسیون خطی برای حالت تک متغیره:\n",
    "</font>\n",
    "</p>\n",
    "\n",
    "\n",
    "تخمین‌گر خطی: \n",
    "$ h_\\theta (x) = \\theta_0 + \\theta_1 x $\n",
    "\n",
    "ضرایب رگرسیون: \n",
    "$\\theta_0 $, $\\theta_1$\n",
    "\n",
    "$m$ = تعداد نمونه‌های یادگیری <br><br>\n",
    "$n$ = تعداد ویژگی‌ها (در حالت تک متغیره برابر ۱ است) <br><br>\n",
    "$\\alpha$ = نرخ یادگیری\n",
    "\n",
    "\n",
    "<p dir=rtl style=\"direction: rtl;text-align: justify;line-height:200%;font-family:vazir;font-size:medium\">\n",
    "<font face=\"vazir\" size=3>\n",
    "هدف مسئله کمینه کردن تابع هزینه‌ J است. در مسئله‌ی رگرسیون خطی تک متغیره تابع هزینه به شکل زیر تعریف می‌شود: \n",
    "</font>\n",
    "</p>\n",
    "\n",
    "$$J(\\theta_0, \\theta_1) = \\frac{1}{(2m)}\\sum_{i = 1}^m \\Bigl(h_\\theta (x^{(i)}) - y^{(i)}\\Bigr)^{2}$$\n",
    "\n",
    "\n",
    "<p dir=rtl style=\"direction: rtl;text-align: justify;line-height:200%;font-family:vazir;font-size:medium\">\n",
    "<font face=\"vazir\" size=3>\n",
    "که در آن رگرسور به شکل زیر تعریف شده است:\n",
    "</font>\n",
    "</p>\n",
    "\n",
    "$$h_{\\theta}(x) = \\theta^Tx = \\theta_0 + \\theta_1x_1$$\n"
   ]
  },
  {
   "attachments": {},
   "cell_type": "markdown",
   "id": "c2ca6cd3",
   "metadata": {},
   "source": [
    "<h3 dir=rtl align=right style=\"line-height:200%;font-family:vazir;color:#0099cc\">\n",
    "<font face=\"vazir\" color=\"#0099cc\">\n",
    "الگوریتم گرادیان کاهشی\n",
    "</font>\n",
    "</h3>\n",
    "<p dir=rtl style=\"direction: rtl;text-align: justify;line-height:200%;font-family:vazir;font-size:medium\">\n",
    "<font face=\"vazir\" size=3>\n",
    "در هر گام این الگوریتم نخست مشتق تابع هزینه محاسبه شده و به وسیله‌‌ی آن ضرایب رگرسیون مطابق فرمول زیر به‌روزرسانی می‌شوند. این عمل تا همگرایی الگوریتم ادامه پیدا می‌کند.\n",
    "\n",
    "</font>\n",
    "</p>\n",
    "\n",
    "$$\\theta_j := \\theta_j - \\alpha \\frac{\\partial}{\\partial \\theta_j} J\\Bigl(\\theta_0, \\theta_1\\Bigr)$$\n",
    "\n",
    "\n",
    "<p dir=rtl style=\"direction: rtl;text-align: justify;line-height:200%;font-family:vazir;font-size:medium\">\n",
    "<font face=\"vazir\" size=3>که در آن برای j=0:\n",
    "</font>\n",
    "</p>\n",
    "\n",
    "\n",
    "$$\\frac{\\partial}{\\partial \\theta_0} J\\Bigl(\\theta_0, \\theta_1\\Bigr) = \\frac{1}{m}\\sum_{i = 1}^m \\Bigl(h_\\theta (x^{(i)}) - y^{(i)}\\Bigr)$$\n",
    "\n",
    "\n",
    "<p dir=rtl style=\"direction: rtl;text-align: justify;line-height:200%;font-family:vazir;font-size:medium\">\n",
    "<font face=\"vazir\" size=3> و برای j های مخالف صفر:\n",
    "</font>\n",
    "</p>\n",
    "\n",
    "   \n",
    "$$\\frac{\\partial}{\\partial \\theta_j} J\\Bigl(\\theta_0, \\theta_1\\Bigr) = \\frac{1}{m}\\sum_{i = 1}^m \\Bigl(h_\\theta (x^{(i)}) - y^{(i)}\\Bigr)x^{(i)}$$\n",
    "\n",
    "\n"
   ]
  },
  {
   "attachments": {},
   "cell_type": "markdown",
   "id": "27fddb8d",
   "metadata": {},
   "source": [
    "<p dir=rtl style=\"direction: rtl;text-align: justify;line-height:200%;font-family:vazir;font-size:medium\">\n",
    "<font face=\"vazir\" size=3>\n",
    "در گام اول از شما می‌خواهیم تابعی برای محاسبه مقدار تابع هزینه‌ بنویسید.\n",
    "ورودی‌های این تابع به ترتیب ماتریس <code>X</code>، بردار <code>y</code> و ضرایب theta هستند و خروجی این تابع مقدار تابع هزینه است.\n",
    "در  نوشتن این تابع دقت داشته باشید که در این بخش رگرسیون تنها با یک متغیر ورودی صورت می‌گیرد اما در ادامه‌ی تمرین‌ قصد داریم رگرسیون چند متغیره را انجام دهیم و تابعی که در این مرحله می‌نویسید چنا‌نچه قابلیت تعمیم داشته باشد می‌تواند در بخش‌های بعد هم استفاده شود. برای راهنمایی <code>Shape</code> ورودی‌ها و خروجی تابع به ازای <code>X</code> و <code>y</code> که در بخش مقدمه ساخته‌اید و ضرایب رگرسیون در حالت تک متغیره به‌صورت کامنت در سل زیر نوشته شده است.\n",
    "</font>\n",
    "</p>\n"
   ]
  },
  {
   "cell_type": "code",
   "execution_count": 11,
   "id": "1c96668a",
   "metadata": {},
   "outputs": [],
   "source": [
    "# X.shape = (545, 2)\n",
    "# y.shape= (545, 1)\n",
    "# theta_gd.shape = (2, 1)\n",
    "# computeCost(X,y,theta_gd) = a float number\n",
    "\n",
    "def computeCost(X, y, theta_gd):\n",
    "    J = (1 / (2 * len(x))) * np.sum(x * theta_gd) \n",
    "    return(J)"
   ]
  },
  {
   "cell_type": "markdown",
   "id": "c77a4cfe",
   "metadata": {},
   "source": [
    "<p dir=rtl style=\"direction: rtl;text-align: justify;line-height:200%;font-family:vazir;font-size:medium\">\n",
    "<font face=\"vazir\" size=3>\n",
    "حال برای ضرایب رگرسیون مقدار اولیه صفر را در نظر گرفته و مقدار تابع هزینه را به ازای آن محاسبه نمایید.\n",
    "</font>\n",
    "</p>\n"
   ]
  },
  {
   "cell_type": "code",
   "execution_count": 12,
   "id": "07493007",
   "metadata": {},
   "outputs": [
    {
     "data": {
      "text/plain": [
       "0.0"
      ]
     },
     "execution_count": 12,
     "metadata": {},
     "output_type": "execute_result"
    }
   ],
   "source": [
    "# J_initial = TO-DO\n",
    "computeCost(x, y, np.array([0,0]))"
   ]
  },
  {
   "attachments": {},
   "cell_type": "markdown",
   "id": "d0115784",
   "metadata": {},
   "source": [
    "<p dir=rtl style=\"direction: rtl;text-align: justify;line-height:200%;font-family:vazir;font-size:medium\">\n",
    "<font face=\"vazir\" size=3>\n",
    "اکنون با استفاده از تابع <code>computeCost</code> نوشته شده تابعی به نام <code>gradientDescent</code> بنویسید تا الگوریتم گرادیان کاهشی را  پیاده کند.\n",
    "ورودی‌های این تابع ماتریس ورودی <code>X</code>، بردار هدف <code>y</code>، ضرایب رگرسیون اولیه، نرخ یادگیری و تعداد گام اجرای الگوریتم است و در خروجی به ترتیب ضرایب رگرسیون نهایی، تاریخچه تغییرات تابع هزینه و تاریخچه تغییرات ضرایب رگرسیون در طول فرآیند اجرای تابع  <code>gradientDescent</code> را خواهیم داشت.  برای راهنمایی ابعاد خروجی‌های تابع در حالت قبل و به ازای ۲۰۰ گام اجرای تابع به‌صورت کامنت آورده شده است.\n",
    "</font>\n",
    "</p>\n"
   ]
  },
  {
   "cell_type": "code",
   "execution_count": 13,
   "id": "e1665f63",
   "metadata": {},
   "outputs": [],
   "source": [
    "\n",
    "def gradientDescent(X, y, theta_gd, alpha, num_iters):\n",
    "    J_history = []\n",
    "    theta_gd_history = []\n",
    "    for i in range(num_iters):\n",
    "        h0 = x * theta_gd\n",
    "        theta_gd[0] += -alpha * (1 / len(x)) * np.sum(h0 - y)\n",
    "        theta_gd[1] += -alpha (1 / len(x)) * np.sum((h0 - y) * x[:1])\n",
    "        theta_gd_history.append(theta_gd)\n",
    "        J_history.append(computeCost(x, y, theta_gd))\n",
    "    \n",
    "           \n",
    "    return(theta_gd, J_history, theta_gd_history) \n",
    "\n",
    "\n",
    "#inputs:\n",
    "# X.shape = (545, 2)\n",
    "# y.shape= (545, 1)\n",
    "# theta_gd.shape = (2, 1)\n",
    "# alpha = a float number\n",
    "# num_iters = 200\n",
    "#outputs:\n",
    "# theta_gd.shape = (2, 1)\n",
    "# J_history.shape= (200,)\n",
    "# theta_gd_history.shape = (2, 200)"
   ]
  },
  {
   "attachments": {},
   "cell_type": "markdown",
   "id": "b5422fef",
   "metadata": {},
   "source": [
    "<p dir=rtl style=\"direction: rtl;text-align: justify;line-height:200%;font-family:vazir;font-size:medium\">\n",
    "<font face=\"vazir\" size=3>\n",
    "اکنون الگوریتم گرادیان کاهشی را با توجه به تابعی که نوشته‌اید با ضرایب رگرسیون اولیه <code>0</code>، نرخ یادگیری <code>1</code> و به تعداد <code>10000</code> گام اجرا کنید و مقدار ضرایب رگرسیون نهایی و کمینه مقدار تابع هزینه را گزارش دهید.\n",
    "</font>\n",
    "</p>\n"
   ]
  },
  {
   "cell_type": "code",
   "execution_count": null,
   "id": "3657dba7",
   "metadata": {},
   "outputs": [],
   "source": [
    "# TO-DO"
   ]
  },
  {
   "cell_type": "markdown",
   "id": "19de9f73",
   "metadata": {},
   "source": [
    "<p dir=rtl style=\"direction: rtl;text-align: justify;line-height:200%;font-family:vazir;font-size:medium\">\n",
    "<font face=\"vazir\" size=3>\n",
    "نمودار تغییرات ضرایب رگرسیون طی گام‌های اجرای الگوریتم فوق را رسم نمایید. \n",
    "</font>\n",
    "</p>\n"
   ]
  },
  {
   "cell_type": "code",
   "execution_count": null,
   "id": "6dd8985a",
   "metadata": {},
   "outputs": [],
   "source": [
    "# TO-DO"
   ]
  },
  {
   "attachments": {},
   "cell_type": "markdown",
   "id": "5d3fb776",
   "metadata": {},
   "source": [
    "<p dir=rtl style=\"direction: rtl;text-align: justify;line-height:200%;font-family:vazir;font-size:medium\">\n",
    "<font face=\"vazir\" size=3>\n",
    "نمودار تغییرات مقدار تابع هزینه طی <code>1000</code> گام نخست را رسم کنید.</font>\n",
    "</p>\n",
    "\n"
   ]
  },
  {
   "cell_type": "code",
   "execution_count": null,
   "id": "ddd30920",
   "metadata": {},
   "outputs": [],
   "source": [
    "# TO-DO"
   ]
  },
  {
   "attachments": {},
   "cell_type": "markdown",
   "id": "a10fde1e",
   "metadata": {},
   "source": [
    "<p dir=rtl style=\"direction: rtl;text-align: justify;line-height:200%;font-family:vazir;font-size:medium\">\n",
    "<font face=\"vazir\" size=3>\n",
    "رسم نمودار سه‌بعدی مقدار تابع هزینه بر حسب مقادیر مختلف ضرایب رگرسیون حول نقطه کمینه به‌دست‌آمده طی اجرای الگوریتم به درک بهتر آن کمک شایانی می‌کند. بدین منظور دو گزینه پیش روی شما قرار می‌گیرد. انتخاب اول شما این است که در صفحه با محور‌های theta_0، theta_1  فضا را حول ضرایب رگرسیون نهایی مشبک کنید و مقدار J را در تمام این نقاط محاسبه کنید. حال در تصویر سه‌بعدی شما بردار اول theta_0، بردار دوم theta_1 و بردار سوم J خواهد بود و مقادیر تابع هزینه حول نقطه‌ی کمینه در تصویر سه‌بعدی قابل مشاهده خواهد بود. گزینه‌ دومی که پیش‌روی شما قرار می‌گیرد دارای نمره امتیازی است. در این حالت به جای تصویر سه‌بعدی ثابت توضیح داده شده از شما می‌خواهیم تصویر تعاملی رسم کنید که قابلیت بزرگ‌نمایی و چرخش داشته باشد و سپس مسیر تغییرات ضرایب رگرسیون از مقدار اولیه داده شده تا رسیدن به نقطه بهینه در الگوریتم گرادیان کاهشی که پیاده کرده‌اید را بر روی تصویر سه‌بعدی رسم کنید. پیشنهاد می‌شود از ماژول <code>graph_objects</code> پکیج <code>plotly</code> استفاده کنید. در هر دو حالت نحوه تعریف کردن <code>grid</code> بر روی مقادیر ضرایب رگرسیون و حدود تصویر باید به نحوی باشد که خروجی واضح و قابل تفسیر باشد.\n",
    "</font>\n",
    "</p>\n",
    "\n"
   ]
  },
  {
   "cell_type": "code",
   "execution_count": null,
   "id": "a8fcfe58",
   "metadata": {},
   "outputs": [],
   "source": [
    "import plotly.graph_objects as go\n",
    "# TO-DO"
   ]
  },
  {
   "attachments": {},
   "cell_type": "markdown",
   "id": "1d0569d2",
   "metadata": {},
   "source": [
    "<h3 dir=rtl align=right style=\"line-height:200%;font-family:vazir;color:#0099cc\">\n",
    "<font face=\"vazir\" color=\"#0099cc\">\n",
    "معادلات نرمال\n",
    "</font>\n",
    "</h3>"
   ]
  },
  {
   "attachments": {},
   "cell_type": "markdown",
   "id": "9f3d9796",
   "metadata": {},
   "source": [
    "<p dir=rtl style=\"direction: rtl;text-align: justify;line-height:200%;font-family:vazir;font-size:medium\">\n",
    "<font face=\"vazir\" size=3>\n",
    "اکنون می‌خواهیم مسئله‌ی رگرسیون خطی را با استفاده از معادلات نرمال حل کنیم. از مزایای این روش این است که نیاز به نرمال‌سازی یا استانداردسازی داده‌ها ندارد. همچنین برای رسیدن به نقطه بهینه نیاز به استفاده از حلقه نیست. از معایب آن هم می‌توان به دشواری محاسبه ماتریس معکوس در ابعاد بالا و نیاز به مدیریت ماتریس <code dir=ltr>(X^T.X)</code> در صورت معکوس‌پذیر نبودن اشاره کرد. ضرایب رگرسیون در این روش با فرمول زیر محاسبه می‌شوند:\n",
    "</font>\n",
    "</p>\n",
    "\n",
    "$$\\theta  = \\big(X^TX\\Big)^{-1}X^Ty$$\n",
    "\n",
    "<p dir=rtl style=\"direction: rtl;text-align: justify;line-height:200%;font-family:vazir;font-size:medium\">\n",
    "<font face=\"vazir\" size=3>\n",
    "تابعی بنویسید که به‌صورت مستقیم (به روش معادلات نرمال) ضرایب رگرسیون را محاسبه کند. ورودی این تابع   ماتریس <code>X</code> و بردار <code>y</code> و خروجی آن ضرایب رگرسیون خطی است.</font>\n",
    "</p>\n",
    "\n"
   ]
  },
  {
   "cell_type": "code",
   "execution_count": null,
   "id": "04ece8bb",
   "metadata": {},
   "outputs": [],
   "source": [
    "def normalEqn(X, y):\n",
    "    # TO-DO\n",
    "    return theta"
   ]
  },
  {
   "cell_type": "markdown",
   "id": "3c9890c4",
   "metadata": {},
   "source": [
    "<p dir=rtl style=\"direction: rtl;text-align: justify;line-height:200%;font-family:vazir;font-size:medium\">\n",
    "<font face=\"vazir\" size=3>\n",
    "  با استفاده از تابع <code>normalEqn</code> مجددا رگرسیون خطی را انجام دهید و ضرایب رگرسیون و کمینه تابع هزینه را گزارش دهید. \n",
    "</font>\n",
    "</p>"
   ]
  },
  {
   "cell_type": "code",
   "execution_count": null,
   "id": "01f533a7",
   "metadata": {},
   "outputs": [],
   "source": [
    "# TO-DO"
   ]
  },
  {
   "attachments": {},
   "cell_type": "markdown",
   "id": "2ceb9a8d",
   "metadata": {},
   "source": [
    "<h3 dir=rtl align=right style=\"line-height:200%;font-family:vazir;color:#0099cc\">\n",
    "<font face=\"vazir\" color=\"#0099cc\">\n",
    "کتابخانه‌ی <code>scikit-learn</code>\n",
    "</font>\n",
    "</h3>\n",
    "\n",
    "<p dir=rtl style=\"direction: rtl;text-align: justify;line-height:200%;font-family:vazir;font-size:medium\">\n",
    "\n",
    "<font face=\"vazir\" size=3>\n",
    "بالاخره زمان فراخوانی پکیج <code>sklearn</code>  فرا رسیده است. با استفاده از این پکیج رگرسیون خطی را انجام داده و مقادیر ضرایب رگرسیون و مقدار کمینه تابع هزینه را گزارش دهید.  \n",
    "</font>\n",
    "</p>\n",
    "\n"
   ]
  },
  {
   "cell_type": "code",
   "execution_count": null,
   "id": "680fdda5",
   "metadata": {},
   "outputs": [],
   "source": [
    "from sklearn.linear_model import LinearRegression \n",
    "# TO-DO"
   ]
  },
  {
   "attachments": {},
   "cell_type": "markdown",
   "id": "9fde21ae",
   "metadata": {},
   "source": [
    "<h3 dir=rtl align=right style=\"line-height:200%;font-family:vazir;color:#0099cc\">\n",
    "<font face=\"vazir\" color=\"#0099cc\">\n",
    "ارزیابی\n",
    "</font>\n",
    "</h3>"
   ]
  },
  {
   "attachments": {},
   "cell_type": "markdown",
   "id": "afcb1e15",
   "metadata": {},
   "source": [
    "<p dir=rtl style=\"direction: rtl;text-align: justify;line-height:200%;font-family:vazir;font-size:medium\">\n",
    "<font face=\"vazir\" size=3>\n",
    "معیار‌های ارزیابی متفاوتی برای مسائل رگرسیون وجود دارد. میانگین مربعات خطا (MSE)، میانگین اندازه خطا (MAE)، میزان همبستگی (correlation) و معیار R2‌ از جمله مهم‌ترین این معیارها هستند.\n",
    "پیشنهاد می‌شود برای اطلاعات بیش‌تر به <a href=\"https://openclassrooms.com/en/courses/6401081-improve-the-performance-of-a-machine-learning-model/6519016-evaluate-the-performance-of-a-regression-model\" target=\"_blank\">این لینک</a>\n",
    "مراجعه کنید.\n",
    "تابع محاسبه معیار R2 ‌بر اساس خروجی به‌دست‌آمده از رگرسیون خطی و خروجی حقیقی را بنویسید. \n",
    "\n",
    "</font>\n",
    "</p>\n",
    "\n",
    "$$ R^2 = 1 - \\left(\\frac{SS_{\\text{Residual}}}{SS_{\\text{Total}}}\\right) $$\n",
    "\n",
    "<p dir=rtl style=\"direction: rtl;text-align: justify;line-height:200%;font-family:vazir;font-size:medium\">\n",
    "<font face=\"vazir\" size=3>که در آن:\n",
    "</font>\n",
    "</p>\n",
    "\n",
    "$$SS_{\\text{Total}} = \\sum_{i=1}^{m} (y^{(i)} - \\mu)^2$$\n",
    "$$SS_{\\text{Residual}} = \\sum_{i=1}^{m} (y^{(i)} - y^{(i)}_{pred})^2$$"
   ]
  },
  {
   "cell_type": "code",
   "execution_count": null,
   "id": "23a91539",
   "metadata": {},
   "outputs": [],
   "source": [
    "def calculate_r2_score(y_true, y_pred):\n",
    "    # TO-DO\n",
    "    return r2"
   ]
  },
  {
   "cell_type": "markdown",
   "id": "ed95289c",
   "metadata": {},
   "source": [
    "<p dir=rtl style=\"direction: rtl;text-align: justify;line-height:200%;font-family:vazir;font-size:medium\">\n",
    "<font face=\"vazir\" size=3>\n",
    "مقدار R2-score را با تابعی که نوشته‌اید برای سه رگرسوری که به دست آورده‌اید محاسبه کنید.</font>\n",
    "</p>\n",
    "\n"
   ]
  },
  {
   "cell_type": "code",
   "execution_count": null,
   "id": "bc94998e",
   "metadata": {},
   "outputs": [],
   "source": [
    "# TO-DO"
   ]
  },
  {
   "attachments": {},
   "cell_type": "markdown",
   "id": "a1b2d575",
   "metadata": {},
   "source": [
    "<p dir=rtl style=\"direction: rtl;text-align: justify;line-height:200%;font-family:vazir;font-size:medium\">\n",
    "<font face=\"vazir\" size=3>\n",
    "در نهایت مجددا اسکترپلات قیمت بر حسب مساحت خانه را رسم کنید و این‌بار سه خط رگرسور بدست آمده را با <code>legend</code> بر روی تصویر رسم نمایید.</font>\n",
    "</p>\n",
    "\n"
   ]
  },
  {
   "cell_type": "code",
   "execution_count": null,
   "id": "a8213f02",
   "metadata": {},
   "outputs": [],
   "source": [
    "# TO-DO"
   ]
  },
  {
   "attachments": {},
   "cell_type": "markdown",
   "id": "af18be2d",
   "metadata": {},
   "source": [
    "<h2 dir=rtl align=right style=\"line-height:200%;font-family:vazir;color:#0099cc\">\n",
    "<font face=\"vazir\" color=\"#0099cc\">\n",
    "بخش دوم: رگرسیون چندمتغیره\n",
    "</font>\n",
    "</h2>\n",
    "<p dir=rtl style=\"direction: rtl;text-align: justify;line-height:200%;font-family:vazir;font-size:medium\">\n",
    "<font face=\"vazir\" size=3>\n",
    "در بخش دوم می‌خواهیم از دیگر ویژگی‌های عددی موجود در دیتافریم اولیه هم استفاده کنیم و پیاده‌سازی رگرسیون چند متغیره را تمرین کنیم. بدین جهت باید تعریف جدیدی برای ماتریس ويژگی‌ها داشته باشیم. این‌بار تمامی مقادیر عددی جز متغیر هدف (قیمت خانه) را درون ماتریس <code>X</code> قرار دهید. متغیر هدف (<code>y</code>) با همان تعریف قبلی در این بخش استفاده می‌شود.\n",
    "</font>\n",
    "</p>\n"
   ]
  },
  {
   "cell_type": "code",
   "execution_count": null,
   "id": "523d5497",
   "metadata": {},
   "outputs": [],
   "source": [
    "# X = TO-DO"
   ]
  },
  {
   "cell_type": "markdown",
   "id": "c142efc4",
   "metadata": {},
   "source": [
    "<p dir=rtl style=\"direction: rtl;text-align: justify;line-height:200%;font-family:vazir;font-size:medium\">\n",
    "<font face=\"vazir\" size=3>\n",
    "هیستوگرام پنج ویژگی انتخاب شده را رسم کنید.\n",
    "</font>\n",
    "</p>\n"
   ]
  },
  {
   "cell_type": "code",
   "execution_count": null,
   "id": "437f1c64",
   "metadata": {},
   "outputs": [],
   "source": [
    "# TO-DO"
   ]
  },
  {
   "attachments": {},
   "cell_type": "markdown",
   "id": "20c9db9b",
   "metadata": {},
   "source": [
    "<p dir=rtl style=\"direction: rtl;text-align: justify;line-height:200%;font-family:vazir;font-size:medium\">\n",
    "<font face=\"vazir\" size=3>\n",
    "همانطور که مشاهده می‌کنید مقادیر این پنج ویژگی‌ در بازه‌های بسیار متفاوتی قرار گرفته‌اند و برای تسریع روند همگرایی الگوریتم گرادیان کاهشی و عدم غلبه یک یا چند ویژگی با مقادیر بیش‌تر بر دیگر ویژگی‌ها باید داده‌ها را استاندارد کنیم. \n",
    "تابعی بنویسید که یک دیتافریم را در ورودی دریافت کند و خروجی را استاندارد نماید. در این  تمرین از Min-Max scaling  استفاده نشد اما پیشنهاد می‌شود برای اطلاعات بیشتر در رابطه با این دو روش نرمال‌سازی به \n",
    "<a href=\"https://www.geeksforgeeks.org/normalization-vs-standardization/\" target=\"_blank\">این لینک</a>\n",
    "رجوع کنید.\n",
    "</font>\n",
    "</p>\n",
    "\n",
    "$$x_i :=\\frac{x_i - \\mu_i}{S_i}$$\n",
    "\n",
    "$\\mu_i$ = میانگین ویژگی\n",
    "\n",
    "${S_i}$ = انحراف از معیار ویژگی"
   ]
  },
  {
   "cell_type": "code",
   "execution_count": null,
   "id": "4cec7b9c",
   "metadata": {},
   "outputs": [],
   "source": [
    "def normalize_features(X):\n",
    "   # TO-DO\n",
    "   return X"
   ]
  },
  {
   "attachments": {},
   "cell_type": "markdown",
   "id": "32e4e315",
   "metadata": {},
   "source": [
    "<p dir=rtl style=\"direction: rtl;text-align: justify;line-height:200%;font-family:vazir;font-size:medium\">\n",
    "<font face=\"vazir\" size=3>\n",
    "با تابع نوشته شده فوق داده‌‌های ورودی را استاندارد نمایید و مجدداً هیستگورام آن‌ها را رسم کنید.\n",
    "</font>\n",
    "</p>\n"
   ]
  },
  {
   "cell_type": "code",
   "execution_count": null,
   "id": "4bf8bbf7",
   "metadata": {},
   "outputs": [],
   "source": [
    "# TO-DO"
   ]
  },
  {
   "attachments": {},
   "cell_type": "markdown",
   "id": "0190146f",
   "metadata": {},
   "source": [
    "<p dir=rtl style=\"direction: rtl;text-align: justify;line-height:200%;font-family:vazir;font-size:medium\">\n",
    "<font face=\"vazir\" size=3>\n",
    "می‌خواهیم روش گرادیان کاهشی را این بار برای رگرسیون چند متغیره استفاده کنیم. چنان‌چه توابع نوشته شده در بخش اول قابلیت تعمیم به ۵ متغیر را نداشتند توابع محاسبه مقدار تابع هزینه و الگوریتم گرادیان کاهشی را برای شرایط کنونی بنویسید. برای راهنمای ابعاد مقادیر ورودی و خروجی برای مثال این بخش به‌صورت کامنت آورده شده است.\n",
    "</font>\n",
    "</p>\n"
   ]
  },
  {
   "cell_type": "code",
   "execution_count": null,
   "id": "42585790",
   "metadata": {},
   "outputs": [],
   "source": [
    "\n",
    "#inputs:\n",
    "# X.shape = (545, 6)\n",
    "# y.shape= (545, 1)\n",
    "# theta_gd.shape = (6, 1)\n",
    "# Output:\n",
    "# J = a float number\n",
    "\n",
    "\n",
    "def computeCostMulti(X, y, theta_gd):\n",
    "    # TO-DO\n",
    "    return J"
   ]
  },
  {
   "cell_type": "code",
   "execution_count": null,
   "id": "310618c7",
   "metadata": {},
   "outputs": [],
   "source": [
    "#inputs:\n",
    "# X.shape = (545, 6)\n",
    "# y.shape= (545, 1)\n",
    "# theta_gd.shape = (6, 1)\n",
    "# alpha = a float number\n",
    "# num_iters = 200 (for example)\n",
    "\n",
    "#outputs:\n",
    "# theta_gd.shape = (6, 1)\n",
    "# J_history.shape= (200,)\n",
    "# theta_gd_history.shape = (6, 200)\n",
    "\n",
    "def gradientDescentMulti(X, y, theta_gd, alpha, num_iters):\n",
    "    # TO-DO\n",
    "    return theta_gd, theta_gd_history, J_history"
   ]
  },
  {
   "attachments": {},
   "cell_type": "markdown",
   "id": "5118e1fe",
   "metadata": {},
   "source": [
    "<p dir=rtl style=\"direction: rtl;text-align: justify;line-height:200%;font-family:vazir;font-size:medium\">\n",
    "<font face=\"vazir\" size=3>\n",
    "با استفاده از توابعی که خودتان نوشتید الگوریتم گرادیان کاهشی را برای یافتن بهترین رگرسیون خطی با نرخ یادگیری <code>0.1</code>، ضرایب رگرسیون اولیه‌ی <code>0</code> و <code>300</code> گام اجرا کنید و ضرایب رگرسیون نهایی و مقدار کمینه تابع هزینه را گزارش دهید.</font>\n",
    "</p>\n"
   ]
  },
  {
   "cell_type": "code",
   "execution_count": null,
   "id": "28d71755",
   "metadata": {},
   "outputs": [],
   "source": [
    "# TO-DO"
   ]
  },
  {
   "cell_type": "markdown",
   "id": "4e6ad927",
   "metadata": {},
   "source": [
    "<p dir=rtl style=\"direction: rtl;text-align: justify;line-height:200%;font-family:vazir;font-size:medium\">\n",
    "<font face=\"vazir\" size=3>\n",
    "روند تغییرات هر ۶ ضریب رگرسیون طی اجرای الگوریتم گرادیان کاهشی را به تصویر بکشید.\n",
    "سرعت همگرایی الگوریتم را نسبت به حالت تک متغیر بخش اول مقایسه کنید و مهم‌ترین دلیل این تفاوت را بیان نمایید. </font>\n",
    "</p>\n"
   ]
  },
  {
   "cell_type": "code",
   "execution_count": null,
   "id": "36e22485",
   "metadata": {},
   "outputs": [],
   "source": [
    "# TO-DO"
   ]
  },
  {
   "cell_type": "markdown",
   "id": "f50dc768",
   "metadata": {},
   "source": [
    "<p dir=rtl style=\"direction: rtl;text-align: center;line-height:200%;font-family:vazir;font-size:medium;color:#0099cc\"><font face=\"vazir\" size=3><i>\n",
    "[تحلیل شما]\n",
    "</i></font></p>"
   ]
  },
  {
   "cell_type": "markdown",
   "id": "4e029a26",
   "metadata": {},
   "source": [
    "<p dir=rtl style=\"direction: rtl;text-align: justify;line-height:200%;font-family:vazir;font-size:medium\">\n",
    "<font face=\"vazir\" size=3>\n",
    "معیار ارزیابی R2 را با استفاده از تابعی که خودتان نوشته‌اید برای خروجی رگرسیون خطی چند متغیره با الگوریتم گرادیان کاهشی محاسبه نمایید. چه تغییری نسب به حالت تک متغیره دارد؟ آیا این تغییر قابل انتظار بود؟ چرا؟</font>\n",
    "</p>\n"
   ]
  },
  {
   "cell_type": "code",
   "execution_count": null,
   "id": "3d46278a",
   "metadata": {},
   "outputs": [],
   "source": [
    "# TO-DO"
   ]
  },
  {
   "cell_type": "markdown",
   "id": "803fd399",
   "metadata": {},
   "source": [
    "<p dir=rtl style=\"direction: rtl;text-align: center;line-height:200%;font-family:vazir;font-size:medium;color:#0099cc\"><font face=\"vazir\" size=3><i>\n",
    "[تحلیل شما]\n",
    "</i></font></p>"
   ]
  },
  {
   "attachments": {},
   "cell_type": "markdown",
   "id": "2573eea3",
   "metadata": {},
   "source": [
    "<p dir=rtl style=\"direction: rtl;text-align: justify;line-height:200%;font-family:vazir;font-size:medium\">\n",
    "<font face=\"vazir\" size=3>\n",
    "می‌خواهیم اثر تغییر نرخ‌یادگیری را بر روند همگرایی الگوریتم گرادیان کاهشی بررسی نماییم. بدین منظور الگوریتم را با مقادیر نرخ یادگیری قرار داده شده در لیست <code>alphas</code> و به تعداد ۲۰۰ گام اجرا کنید و روند تغییرات تابع هزینه در این ۵ بار اجرا را بر روی یک تصویر به نمایش دربیاورید. آیا نتیجه قابل انتظار بود؟</font>\n",
    "</p>\n"
   ]
  },
  {
   "cell_type": "code",
   "execution_count": null,
   "id": "52d4f726",
   "metadata": {},
   "outputs": [],
   "source": [
    "alphas = [1, 0.5, 0.1, 0.05, 0.01]\n",
    "# TO-DO"
   ]
  },
  {
   "cell_type": "markdown",
   "id": "a62fcf40",
   "metadata": {},
   "source": [
    "<p dir=rtl style=\"direction: rtl;text-align: center;line-height:200%;font-family:vazir;font-size:medium;color:#0099cc\"><font face=\"vazir\" size=3><i>\n",
    "[تحلیل شما]\n",
    "</i></font></p>"
   ]
  },
  {
   "attachments": {},
   "cell_type": "markdown",
   "id": "9f13934f",
   "metadata": {},
   "source": [
    "<p dir=rtl style=\"direction: rtl;text-align: justify;line-height:200%;font-family:vazir;font-size:medium\">\n",
    "<font face=\"vazir\" size=3>\n",
    "با استفاده از روش معادلات نرمال مسئله‌ی رگرسیون خطی چند متغیره را حل کنید. ضرایب رگرسیون و کمینه تابع هزینه را گزارش کنید.\n",
    "</font>\n",
    "</p>\n"
   ]
  },
  {
   "cell_type": "code",
   "execution_count": null,
   "id": "24bba471",
   "metadata": {},
   "outputs": [],
   "source": [
    "# TO-DO"
   ]
  },
  {
   "attachments": {},
   "cell_type": "markdown",
   "id": "1cff3e04",
   "metadata": {},
   "source": [
    "<h2 align=right style=\"line-height:200%;font-family:vazir;color:#0099cc\">\n",
    "<font face=\"vazir\" color=\"#0099cc\">\n",
    "بخش سوم: رگولاریزیشن\n",
    "</font>\n",
    "</h2>\n",
    "<p dir=rtl style=\"direction: rtl;text-align: justify;line-height:200%;font-family:vazir;font-size:medium\">\n",
    "<font face=\"vazir\" size=3>در این تمرین می‌خواهیم اثر رگولاریزیشن یا منظم‌سازی را در مسئله رگرسیون مشاهده کنیم. بدین منظور از رگرسیون چندجمله‌ای استفاده خواهیم کرد. همانند بخش اول ستون <code>area</code> از دیتا فریم را جدا کرده و این‌بار عملیات نرمال‌سازی با میانگین را بر روی آن انجام دهید.\n",
    "</font>\n",
    "</p>\n"
   ]
  },
  {
   "cell_type": "code",
   "execution_count": null,
   "id": "e4c25626",
   "metadata": {},
   "outputs": [],
   "source": [
    "#X.shape = (545,)"
   ]
  },
  {
   "attachments": {},
   "cell_type": "markdown",
   "id": "4e2eb57e",
   "metadata": {},
   "source": [
    "<p dir=rtl style=\"direction: rtl;text-align: justify;line-height:200%;font-family:vazir;font-size:medium\">\n",
    "<font face=\"vazir\" size=3>\n",
    "با استفاده از <code>PolynomialFeatures</code> در پکیج <code>scikit-learn</code> یک چند جمله‌ای تا درجه ۱۲ از متغیر <code>x</code> بسازید و در ماتریس <code>X_pol</code> ذخیره کنید. \n",
    "بدین ترتیب انتظار می‌رود یک ماتریس <code>X_pol</code> با ابعاد <code>545‌</code> در <code>13</code> داشته باشید.</font>\n",
    "</p>\n"
   ]
  },
  {
   "cell_type": "code",
   "execution_count": null,
   "id": "0998b391",
   "metadata": {},
   "outputs": [],
   "source": [
    "from sklearn.preprocessing import PolynomialFeatures\n",
    "# TO-DO"
   ]
  },
  {
   "attachments": {},
   "cell_type": "markdown",
   "id": "1b8d7a55",
   "metadata": {},
   "source": [
    "<p dir=rtl style=\"direction: rtl;text-align: justify;line-height:200%;font-family:vazir;font-size:medium\">\n",
    "<font face=\"vazir\" size=3>\n",
    "حال با استفاده از رگرسیون خطی در پکیج <code>scikit-learn</code> مدل خود را آموزش داده و ضرایب رگرسیون خطی را به دست آورید و نمایش دهید.\n",
    "</font>\n",
    "</p>\n"
   ]
  },
  {
   "cell_type": "code",
   "execution_count": null,
   "id": "e60e9fba",
   "metadata": {},
   "outputs": [],
   "source": [
    "from sklearn.linear_model import LinearRegression\n",
    "# TO-DO"
   ]
  },
  {
   "attachments": {},
   "cell_type": "markdown",
   "id": "257e125c",
   "metadata": {},
   "source": [
    "<p dir=rtl style=\"direction: rtl;text-align: justify;line-height:200%;font-family:vazir;font-size:medium\">\n",
    "<font face=\"vazir\" size=3>\n",
    "اکنون می‌خواهیم از دو نوع تنظیم رگرسیون L1 و L2 استفاده کنیم تا از بیش‌برازش (Overfitting) مدل جلوگیری کنیم.\n",
    "بیش‌برازش پدیده نامطلوبی است که در نتیجه پیچیده شدن بیش از اندازه مدل رخ می‌دهد و در نتیجه مدل بر روی داده‌های آموزش خوب عمل کرده اما بر روی داده‌های تست ضعیف عمل خواهد کرد. در سمت مقابل مفهوم کم‌برازش (Underfitting) را داریم. زمانی که مدل بیش از اندازه ساده‌انگارانه آموزش داده شود به نحوی که نه تنها بر روی داده تست خوب عمل نکند بلکه بر روی داده آموزش هم عملکرد قابل قبولی نداشته باشد می‌گوییم مدل underfit شده است. نمونه کم‌برازش را در بخش یک ملاحظه کردید و دلیل آن عدم پاسخگویی مدل یادگیری ماشین رگرسیون خطی تک متغیره برای آن مسئله بود. \n",
    "\n",
    "</font>\n",
    "</p>"
   ]
  },
  {
   "attachments": {},
   "cell_type": "markdown",
   "id": "b5d5da6b",
   "metadata": {},
   "source": [
    "<p dir=rtl style=\"direction: rtl;text-align: justify;line-height:200%;font-family:vazir;font-size:medium\">\n",
    "<font face=\"vazir\" size=3>\n",
    "یکی از روش‌های جلوگیری از بیش‌برازش Regularization است. تنظیم برای جلوگیری از پیچیده شدن مدل برای افزایش مقدار ضرایب در رگرسیون جریمه لحاظ می‌کند، لذا مدل در عین اینکه در تلاش است خطای آموزش را کم‌ کند باید نیم‌نگاهی به اندازه ضرایبی که حاصل می‌شود داشته باشد. به بیانی دیگر همواره طی فرایند بهینه‌سازی مدل یک سبک سنگین بین خطای پیش‌بینی و پیچیدگی مدل را دارد. اکنون می‌خواهیم توضیح دهیم به‌صورت ریاضی چطور به این مهم دست یابیم. \n",
    "</font>\n",
    "</p>"
   ]
  },
  {
   "attachments": {},
   "cell_type": "markdown",
   "id": "f6bc60c4",
   "metadata": {},
   "source": [
    "<p dir=rtl style=\"direction: rtl;text-align: justify;line-height:200%;font-family:vazir;font-size:medium\">\n",
    "<font face=\"vazir\" size=3>\n",
    "بدین منظور یک عبارت (term) به عنوان جریمه افزایش ضرایب به تابع هزینه اضافه می‌شود. فرمول‌هایی که در ادامه مشاهده می‌کنید برای مسئله L2 یا Ridge است. در مسائلی همچون Lasso یا Elastic این عبارت به شکل دیگری ظاهر می‌شود که پیشنهاد می‌شود با جستجوی در این زمینه تفاوت عملکرد و شرایط استفاده از این روش‌ها را فرا بگیرید. \n",
    "<a href=\"https://www.geeksforgeeks.org/lasso-vs-ridge-vs-elastic-net-ml/\" target=\"_blank\">این لینک</a> برای آشنایی بیش‌تر با سه روش نام‌برده مفید است.\n",
    "</font>\n",
    "</p>\n",
    "\n",
    "$$ J(\\theta) = \\frac{1}{(2m)}\\bigg[\\sum_{i = 1}^m \\Bigl(h_\\theta (x^{(i)}) - y^{(i)}\\Bigr)^{2} + \\lambda\\sum_{j = 1}^{n}\\theta_{j}^{2}\\bigg]$$\n",
    "\n",
    "<p dir=rtl style=\"direction: rtl;text-align: justify;line-height:200%;font-family:vazir;font-size:medium\">\n",
    "<font face=\"vazir\" size=3>که در رگرسیون خطی:\n",
    "</font>\n",
    "</p>\n",
    "\n",
    "$$h_{\\theta}(x) = \\theta^Tx$$\n",
    "\n",
    "<p dir=rtl style=\"direction: rtl;text-align: justify;line-height:200%;font-family:vazir;font-size:medium\">\n",
    "<font face=\"vazir\" size=3>\n",
    "الگوریتم گرادیان کاهشی با این تغییر در تابع هزینه به این شکل خواهد بود. برای theta_0:\n",
    "</font>\n",
    "</p>\n",
    "\n",
    "\n",
    "$$\\theta_0 : = \\theta_0- \\alpha\\frac{\\partial J(\\theta)}{\\partial\\theta_{0}}$$\n",
    "$$ \\frac{\\partial J(\\theta)}{\\partial\\theta_{0}} = \\frac{1}{m}\\sum_{i=1}^{m} ( h_\\theta (x^{(i)})-y^{(i)})x^{(i)}_{0} $$\n",
    "\n",
    "\n",
    "<p dir=rtl style=\"direction: rtl;text-align: justify;line-height:200%;font-family:vazir;font-size:medium\">\n",
    "<font face=\"vazir\" size=3>برای ضرایب رگرسیون غیر از theta_0:\n",
    "</font>\n",
    "</p>\n",
    "\n",
    "$$\\theta_j : = \\theta_j- \\alpha\\Big[\\Big(\\frac{\\partial J(\\theta)}{\\partial\\theta_{j}}\\Big) + \\frac{\\lambda}{m}\\theta_{j}\\Big] $$\n",
    "$$ \\frac{\\partial J(\\theta)}{\\partial\\theta_{j}} = \\frac{1}{m}\\sum_{i=1}^{m} ( h_\\theta (x^{(i)})-y^{(i)})x^{(i)}_{j} +\\frac{\\lambda}{m}\\theta_{j}$$\n",
    "\n",
    "<p dir=rtl style=\"direction: rtl;text-align: justify;line-height:200%;font-family:vazir;font-size:medium\">\n",
    "<font face=\"vazir\" size=3>و به صورت برداری خواهیم داشت:\n",
    "</font>\n",
    "</p>\n",
    "\n",
    "\n",
    "for j = 0 \n",
    "$$\\frac{\\partial J(\\theta)}{\\partial\\theta_{0}} = \\frac{1}{m} X^T(h-y)$$\n",
    "for j = 1,2,3... n\n",
    "$$\\frac{\\partial J(\\theta)}{\\partial\\theta_{j}} = \\frac{1}{m} X^T(h-y) + \\frac{\\lambda}{m}\\theta_{j}$$\n",
    "\n",
    "\n",
    "                                "
   ]
  },
  {
   "cell_type": "markdown",
   "id": "97efb162",
   "metadata": {},
   "source": [
    "<p dir=rtl style=\"direction: rtl;text-align: justify;line-height:200%;font-family:vazir;font-size:medium\">\n",
    "<font face=\"vazir\" size=3>\n",
    "</font>\n",
    "</p>\n"
   ]
  },
  {
   "attachments": {},
   "cell_type": "markdown",
   "id": "0ac5701f",
   "metadata": {},
   "source": [
    "<p dir=rtl style=\"direction: rtl;text-align: justify;line-height:200%;font-family:vazir;font-size:medium\">\n",
    "<font face=\"vazir\" size=3>\n",
    "  اکنون با استفاده از \n",
    "  Ridge\n",
    "  در پکیج <code>scikit-learn</code> مدل را با نرم L2 آموزش دهید. \n",
    "  بدین منظور می‌خواهیم ۷ مرتبه آموزش با ضرایب جریمه <code>landa</code> مختلف که در لیست <code>landas</code> در سل زیر آمده را انجام دهید و هر بار رگرسور بدست آمده را بر روی اسکتر پلات رسم کنید به نحوی که ۸ رگرسور، متشکل از ۷ رگرسور این قسمت از تمرین و رگرسور بدون تنظیم قسمت قبل بر روی اسکتر پلات رسم شوند.    \n",
    "  آیا نتیجه مطابق انتظار بود؟ توضیح دهید.</p>\n"
   ]
  },
  {
   "cell_type": "code",
   "execution_count": null,
   "id": "788f2a64",
   "metadata": {},
   "outputs": [],
   "source": [
    "landas = [1,2,5,10,20,50,100]\n",
    "from sklearn.linear_model import Ridge\n",
    "# TO-DO"
   ]
  },
  {
   "attachments": {},
   "cell_type": "markdown",
   "id": "44113d97",
   "metadata": {},
   "source": [
    "<p dir=rtl style=\"direction: rtl;text-align: center;line-height:200%;font-family:vazir;font-size:medium;color:#0099cc\"><font face=\"vazir\" size=3><i>\n",
    "[تحلیل شما]\n",
    "</i></font></p>"
   ]
  },
  {
   "cell_type": "markdown",
   "id": "a0528bc6",
   "metadata": {},
   "source": []
  }
 ],
 "metadata": {
  "kernelspec": {
   "display_name": "bootcamp",
   "language": "python",
   "name": "python3"
  },
  "language_info": {
   "codemirror_mode": {
    "name": "ipython",
    "version": 3
   },
   "file_extension": ".py",
   "mimetype": "text/x-python",
   "name": "python",
   "nbconvert_exporter": "python",
   "pygments_lexer": "ipython3",
   "version": "3.9.19"
  }
 },
 "nbformat": 4,
 "nbformat_minor": 5
}
